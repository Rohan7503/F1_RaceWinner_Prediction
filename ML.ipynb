{
 "cells": [
  {
   "cell_type": "markdown",
   "id": "a90dc4fd",
   "metadata": {},
   "source": [
    "### <font color='k'> Import Modules </font>"
   ]
  },
  {
   "cell_type": "code",
   "execution_count": 278,
   "id": "a87aa2c7",
   "metadata": {},
   "outputs": [],
   "source": [
    "import matplotlib.pyplot as plt\n",
    "import numpy as np\n",
    "import pandas as pd\n",
    "from sklearn.model_selection import train_test_split\n",
    "from sklearn.linear_model import LogisticRegression\n",
    "from sklearn.linear_model import LinearRegression\n",
    "from sklearn.ensemble import RandomForestClassifier"
   ]
  },
  {
   "cell_type": "markdown",
   "id": "0239bc42",
   "metadata": {},
   "source": [
    "### <font color='k'> Read Dataset</font>"
   ]
  },
  {
   "cell_type": "code",
   "execution_count": 279,
   "id": "04577dd2",
   "metadata": {},
   "outputs": [],
   "source": [
    "df=pd.read_csv(\"DatasetMain.csv\")"
   ]
  },
  {
   "cell_type": "markdown",
   "id": "dfc39006",
   "metadata": {},
   "source": [
    "### <font color='k'> Split Train and Test data </font>"
   ]
  },
  {
   "cell_type": "code",
   "execution_count": 280,
   "id": "68bf6e46",
   "metadata": {},
   "outputs": [],
   "source": [
    "X=df[['Position Order', 'Grid', 'Race']]\n",
    "y=df['Name']"
   ]
  },
  {
   "cell_type": "code",
   "execution_count": 281,
   "id": "14394631",
   "metadata": {},
   "outputs": [],
   "source": [
    "# Training data: Until year 2020\n",
    "# Testing data: Year 2020\n",
    "\n",
    "X_train=X[df['Year']<2020]\n",
    "X_test=X[(df['Year']==2020) & (df['Position Order']==1)]\n",
    "\n",
    "X_train=pd.get_dummies(X_train)\n",
    "X_test=pd.get_dummies(X_test)\n",
    "\n",
    "y_train=y[df['Year']<2020]\n",
    "y_test=y[(df['Year']==2020) & (df['Position Order']==1)]\n",
    "\n",
    "y_axis=[]"
   ]
  },
  {
   "cell_type": "code",
   "execution_count": 282,
   "id": "2aa5c523",
   "metadata": {},
   "outputs": [],
   "source": [
    "LIST=[]\n",
    "for i in X_test.columns:\n",
    "    if i not in X_train.columns:\n",
    "        LIST.append(i)\n",
    "X_test.drop(LIST,axis=1,inplace=True)"
   ]
  },
  {
   "cell_type": "markdown",
   "id": "c6f9c09b",
   "metadata": {},
   "source": [
    "### <font color='k'> Logistic Regression </font>"
   ]
  },
  {
   "cell_type": "code",
   "execution_count": 283,
   "id": "86a0ffda",
   "metadata": {},
   "outputs": [
    {
     "name": "stdout",
     "output_type": "stream",
     "text": [
      "Accuracy: 0.7647058823529411\n"
     ]
    }
   ],
   "source": [
    "reg_model=LogisticRegression(C=0.01,max_iter=100000,multi_class='multinomial')\n",
    "reg_model.fit(X_train,y_train)\n",
    "score=reg_model.score(X_test,y_test)\n",
    "y_axis.append(score)\n",
    "print(\"Accuracy:\",score)"
   ]
  },
  {
   "cell_type": "markdown",
   "id": "c32049da",
   "metadata": {},
   "source": [
    "### <font color='k'> Random Forest Classifier </font>"
   ]
  },
  {
   "cell_type": "code",
   "execution_count": 284,
   "id": "3a0396f1",
   "metadata": {
    "scrolled": true
   },
   "outputs": [
    {
     "name": "stdout",
     "output_type": "stream",
     "text": [
      "('gini', 0.8, 9.0)\n",
      "Accuracy: 0.8235294117647058\n"
     ]
    }
   ],
   "source": [
    "params={'criterion': ['gini', 'entropy'],\n",
    "        'max_features': [0.8, 'auto', None],\n",
    "        'max_depth': list(np.linspace(5, 55, 26)) + [None]}\n",
    "scores={}\n",
    "\n",
    "for criterion in params['criterion']:\n",
    "    for max_features in params['max_features']:\n",
    "        for max_depth in params['max_depth']:\n",
    "            model_params = (criterion, max_features, max_depth)\n",
    "            rfc_model = RandomForestClassifier(criterion = criterion, max_features = max_features, max_depth = max_depth)\n",
    "            rfc_model.fit(X_train, y_train)\n",
    "            \n",
    "            scores[model_params]=rfc_model.score(X_test,y_test)\n",
    "            \n",
    "key=max(scores,key=lambda x:scores[x])\n",
    "print(key)\n",
    "print(\"Accuracy:\",scores[key])\n",
    "y_axis.append(scores[key])"
   ]
  },
  {
   "cell_type": "markdown",
   "id": "0787ff7d",
   "metadata": {},
   "source": [
    "### <font color='k'> Bar graph of Accuracy </font>"
   ]
  },
  {
   "cell_type": "code",
   "execution_count": 285,
   "id": "cd514572",
   "metadata": {},
   "outputs": [
    {
     "data": {
      "image/png": "[encoded data removed]",
      "text/plain": [
       "<Figure size 432x288 with 1 Axes>"
      ]
     },
     "metadata": {
      "needs_background": "light"
     },
     "output_type": "display_data"
    }
   ],
   "source": [
    "labels=['Logistic Regression','Random Forest Classifier']\n",
    "plt.bar(x=labels,height=y_axis,width=0.5,label=labels,color='maroon')\n",
    "plt.xlabel('Algorithms')\n",
    "plt.ylabel('Accuracy')\n",
    "plt.show()"
   ]
  },
  {
   "cell_type": "markdown",
   "id": "82784fea",
   "metadata": {},
   "source": [
    "### <font color='k'> Using the RFC Model </font>"
   ]
  },
  {
   "cell_type": "code",
   "execution_count": 286,
   "id": "eeddc114",
   "metadata": {},
   "outputs": [
    {
     "data": {
      "text/plain": [
       "RandomForestClassifier(max_depth=9.0, max_features=0.8)"
      ]
     },
     "execution_count": 286,
     "metadata": {},
     "output_type": "execute_result"
    }
   ],
   "source": [
    "rfc_model = RandomForestClassifier(criterion=key[0], max_features=key[1], max_depth=key[2])\n",
    "rfc_model.fit(X_train, y_train)"
   ]
  },
  {
   "cell_type": "code",
   "execution_count": 287,
   "id": "e683506e",
   "metadata": {},
   "outputs": [
    {
     "data": {
      "text/html": [
       "<div>\n",
       "<style scoped>\n",
       "    .dataframe tbody tr th:only-of-type {\n",
       "        vertical-align: middle;\n",
       "    }\n",
       "\n",
       "    .dataframe tbody tr th {\n",
       "        vertical-align: top;\n",
       "    }\n",
       "\n",
       "    .dataframe thead th {\n",
       "        text-align: right;\n",
       "    }\n",
       "</style>\n",
       "<table border=\"1\" class=\"dataframe\">\n",
       "  <thead>\n",
       "    <tr style=\"text-align: right;\">\n",
       "      <th></th>\n",
       "      <th>Race</th>\n",
       "      <th>Year</th>\n",
       "      <th>Grid</th>\n",
       "      <th>Position Order</th>\n",
       "      <th>Actual Winner</th>\n",
       "      <th>Predicted Winner</th>\n",
       "    </tr>\n",
       "  </thead>\n",
       "  <tbody>\n",
       "    <tr>\n",
       "      <th>1775</th>\n",
       "      <td>Austrian Grand Prix</td>\n",
       "      <td>2020</td>\n",
       "      <td>1</td>\n",
       "      <td>1</td>\n",
       "      <td>Mercedes</td>\n",
       "      <td>Mercedes</td>\n",
       "    </tr>\n",
       "    <tr>\n",
       "      <th>1815</th>\n",
       "      <td>Styrian Grand Prix</td>\n",
       "      <td>2020</td>\n",
       "      <td>1</td>\n",
       "      <td>1</td>\n",
       "      <td>Mercedes</td>\n",
       "      <td>Mercedes</td>\n",
       "    </tr>\n",
       "    <tr>\n",
       "      <th>1835</th>\n",
       "      <td>Hungarian Grand Prix</td>\n",
       "      <td>2020</td>\n",
       "      <td>1</td>\n",
       "      <td>1</td>\n",
       "      <td>Mercedes</td>\n",
       "      <td>Mercedes</td>\n",
       "    </tr>\n",
       "    <tr>\n",
       "      <th>1855</th>\n",
       "      <td>British Grand Prix</td>\n",
       "      <td>2020</td>\n",
       "      <td>1</td>\n",
       "      <td>1</td>\n",
       "      <td>Mercedes</td>\n",
       "      <td>Mercedes</td>\n",
       "    </tr>\n",
       "    <tr>\n",
       "      <th>1875</th>\n",
       "      <td>70th Anniversary Grand Prix</td>\n",
       "      <td>2020</td>\n",
       "      <td>4</td>\n",
       "      <td>1</td>\n",
       "      <td>Red Bull</td>\n",
       "      <td>Red Bull</td>\n",
       "    </tr>\n",
       "    <tr>\n",
       "      <th>1895</th>\n",
       "      <td>Spanish Grand Prix</td>\n",
       "      <td>2020</td>\n",
       "      <td>1</td>\n",
       "      <td>1</td>\n",
       "      <td>Mercedes</td>\n",
       "      <td>Mercedes</td>\n",
       "    </tr>\n",
       "    <tr>\n",
       "      <th>1915</th>\n",
       "      <td>Belgian Grand Prix</td>\n",
       "      <td>2020</td>\n",
       "      <td>1</td>\n",
       "      <td>1</td>\n",
       "      <td>Mercedes</td>\n",
       "      <td>Mercedes</td>\n",
       "    </tr>\n",
       "    <tr>\n",
       "      <th>1935</th>\n",
       "      <td>Italian Grand Prix</td>\n",
       "      <td>2020</td>\n",
       "      <td>10</td>\n",
       "      <td>1</td>\n",
       "      <td>AlphaTauri</td>\n",
       "      <td>Mercedes</td>\n",
       "    </tr>\n",
       "    <tr>\n",
       "      <th>1955</th>\n",
       "      <td>Tuscan Grand Prix</td>\n",
       "      <td>2020</td>\n",
       "      <td>1</td>\n",
       "      <td>1</td>\n",
       "      <td>Mercedes</td>\n",
       "      <td>Mercedes</td>\n",
       "    </tr>\n",
       "    <tr>\n",
       "      <th>1975</th>\n",
       "      <td>Russian Grand Prix</td>\n",
       "      <td>2020</td>\n",
       "      <td>3</td>\n",
       "      <td>1</td>\n",
       "      <td>Mercedes</td>\n",
       "      <td>Mercedes</td>\n",
       "    </tr>\n",
       "    <tr>\n",
       "      <th>1995</th>\n",
       "      <td>Eifel Grand Prix</td>\n",
       "      <td>2020</td>\n",
       "      <td>2</td>\n",
       "      <td>1</td>\n",
       "      <td>Mercedes</td>\n",
       "      <td>Mercedes</td>\n",
       "    </tr>\n",
       "    <tr>\n",
       "      <th>2015</th>\n",
       "      <td>Portuguese Grand Prix</td>\n",
       "      <td>2020</td>\n",
       "      <td>1</td>\n",
       "      <td>1</td>\n",
       "      <td>Mercedes</td>\n",
       "      <td>Mercedes</td>\n",
       "    </tr>\n",
       "    <tr>\n",
       "      <th>2035</th>\n",
       "      <td>Emilia Romagna Grand Prix</td>\n",
       "      <td>2020</td>\n",
       "      <td>2</td>\n",
       "      <td>1</td>\n",
       "      <td>Mercedes</td>\n",
       "      <td>Mercedes</td>\n",
       "    </tr>\n",
       "    <tr>\n",
       "      <th>2055</th>\n",
       "      <td>Turkish Grand Prix</td>\n",
       "      <td>2020</td>\n",
       "      <td>6</td>\n",
       "      <td>1</td>\n",
       "      <td>Mercedes</td>\n",
       "      <td>Mercedes</td>\n",
       "    </tr>\n",
       "    <tr>\n",
       "      <th>2075</th>\n",
       "      <td>Bahrain Grand Prix</td>\n",
       "      <td>2020</td>\n",
       "      <td>1</td>\n",
       "      <td>1</td>\n",
       "      <td>Mercedes</td>\n",
       "      <td>Mercedes</td>\n",
       "    </tr>\n",
       "    <tr>\n",
       "      <th>2095</th>\n",
       "      <td>Sakhir Grand Prix</td>\n",
       "      <td>2020</td>\n",
       "      <td>5</td>\n",
       "      <td>1</td>\n",
       "      <td>Racing Point</td>\n",
       "      <td>Ferrari</td>\n",
       "    </tr>\n",
       "    <tr>\n",
       "      <th>2115</th>\n",
       "      <td>Abu Dhabi Grand Prix</td>\n",
       "      <td>2020</td>\n",
       "      <td>1</td>\n",
       "      <td>1</td>\n",
       "      <td>Red Bull</td>\n",
       "      <td>Mercedes</td>\n",
       "    </tr>\n",
       "  </tbody>\n",
       "</table>\n",
       "</div>"
      ],
      "text/plain": [
       "                             Race  Year  Grid  Position Order Actual Winner  \\\n",
       "1775          Austrian Grand Prix  2020     1               1      Mercedes   \n",
       "1815           Styrian Grand Prix  2020     1               1      Mercedes   \n",
       "1835         Hungarian Grand Prix  2020     1               1      Mercedes   \n",
       "1855           British Grand Prix  2020     1               1      Mercedes   \n",
       "1875  70th Anniversary Grand Prix  2020     4               1      Red Bull   \n",
       "1895           Spanish Grand Prix  2020     1               1      Mercedes   \n",
       "1915           Belgian Grand Prix  2020     1               1      Mercedes   \n",
       "1935           Italian Grand Prix  2020    10               1    AlphaTauri   \n",
       "1955            Tuscan Grand Prix  2020     1               1      Mercedes   \n",
       "1975           Russian Grand Prix  2020     3               1      Mercedes   \n",
       "1995             Eifel Grand Prix  2020     2               1      Mercedes   \n",
       "2015        Portuguese Grand Prix  2020     1               1      Mercedes   \n",
       "2035    Emilia Romagna Grand Prix  2020     2               1      Mercedes   \n",
       "2055           Turkish Grand Prix  2020     6               1      Mercedes   \n",
       "2075           Bahrain Grand Prix  2020     1               1      Mercedes   \n",
       "2095            Sakhir Grand Prix  2020     5               1  Racing Point   \n",
       "2115         Abu Dhabi Grand Prix  2020     1               1      Red Bull   \n",
       "\n",
       "     Predicted Winner  \n",
       "1775         Mercedes  \n",
       "1815         Mercedes  \n",
       "1835         Mercedes  \n",
       "1855         Mercedes  \n",
       "1875         Red Bull  \n",
       "1895         Mercedes  \n",
       "1915         Mercedes  \n",
       "1935         Mercedes  \n",
       "1955         Mercedes  \n",
       "1975         Mercedes  \n",
       "1995         Mercedes  \n",
       "2015         Mercedes  \n",
       "2035         Mercedes  \n",
       "2055         Mercedes  \n",
       "2075         Mercedes  \n",
       "2095          Ferrari  \n",
       "2115         Mercedes  "
      ]
     },
     "execution_count": 287,
     "metadata": {},
     "output_type": "execute_result"
    }
   ],
   "source": [
    "df.drop(['Constructor Id','Name','Race Id', 'Result Id', 'F1'],axis=1,inplace=True)\n",
    "df=df[(df['Year']==2020) & (df['Position Order']==1)]\n",
    "df['Actual Winner']=list(y_test)\n",
    "df['Predicted Winner']=list(rfc_model.predict(X_test))\n",
    "df"
   ]
  }
 ],
 "metadata": {
  "kernelspec": {
   "display_name": "Python 3 (ipykernel)",
   "language": "python",
   "name": "python3"
  },
  "language_info": {
   "codemirror_mode": {
    "name": "ipython",
    "version": 3
   },
   "file_extension": ".py",
   "mimetype": "text/x-python",
   "name": "python",
   "nbconvert_exporter": "python",
   "pygments_lexer": "ipython3",
   "version": "3.9.12"
  }
 },
 "nbformat": 4,
 "nbformat_minor": 5
}
